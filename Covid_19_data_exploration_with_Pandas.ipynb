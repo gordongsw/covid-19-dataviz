{
 "cells": [
  {
   "cell_type": "markdown",
   "metadata": {
    "colab_type": "text",
    "id": "view-in-github"
   },
   "source": [
    "<a href=\"https://colab.research.google.com/github/zerotodeeplearning/covid-19-dataviz/blob/master/Covid_19_data_exploration_with_Pandas.ipynb\" target=\"_parent\"><img src=\"https://colab.research.google.com/assets/colab-badge.svg\" alt=\"Open In Colab\"/></a>"
   ]
  },
  {
   "cell_type": "markdown",
   "metadata": {
    "colab_type": "text",
    "id": "2bwH96hViwS7"
   },
   "source": [
    "#### Copyright 2020 Catalit LLC."
   ]
  },
  {
   "cell_type": "code",
   "execution_count": null,
   "metadata": {
    "colab": {},
    "colab_type": "code",
    "id": "bFidPKNdkVPg"
   },
   "outputs": [],
   "source": [
    "# Licensed under the Apache License, Version 2.0 (the \"License\");\n",
    "# you may not use this file except in compliance with the License.\n",
    "# You may obtain a copy of the License at\n",
    "#\n",
    "# https://www.apache.org/licenses/LICENSE-2.0\n",
    "#\n",
    "# Unless required by applicable law or agreed to in writing, software\n",
    "# distributed under the License is distributed on an \"AS IS\" BASIS,\n",
    "# WITHOUT WARRANTIES OR CONDITIONS OF ANY KIND, either express or implied.\n",
    "# See the License for the specific language governing permissions and\n",
    "# limitations under the License."
   ]
  },
  {
   "cell_type": "markdown",
   "metadata": {
    "colab_type": "text",
    "id": "DvoukA2tkGV4"
   },
   "source": [
    "# Covid-19 data exploration with Pandas"
   ]
  },
  {
   "cell_type": "markdown",
   "metadata": {
    "colab_type": "text",
    "id": "hGDLh6mYkboL"
   },
   "source": [
    "Let's clone the 2019 Novel Coronavirus COVID-19 (2019-nCoV) Data Repository by Johns Hopkins CSSE"
   ]
  },
  {
   "cell_type": "code",
   "execution_count": null,
   "metadata": {
    "cellView": "both",
    "colab": {
     "base_uri": "https://localhost:8080/",
     "height": 136
    },
    "colab_type": "code",
    "id": "Pg-dOwjgius9",
    "outputId": "c3c0da53-3c77-4665-ea87-373dd504cdfb"
   },
   "outputs": [],
   "source": [
    "!git clone https://github.com/CSSEGISandData/COVID-19.git"
   ]
  },
  {
   "cell_type": "markdown",
   "metadata": {
    "colab_type": "text",
    "id": "vRGHlxQxksWI"
   },
   "source": [
    "## Data loading"
   ]
  },
  {
   "cell_type": "code",
   "execution_count": null,
   "metadata": {
    "colab": {},
    "colab_type": "code",
    "id": "b93c9y7ejmOx"
   },
   "outputs": [],
   "source": [
    "import pandas as pd\n",
    "import numpy as np\n",
    "import matplotlib.pyplot as plt\n",
    "import matplotlib.dates as mdates"
   ]
  },
  {
   "cell_type": "code",
   "execution_count": null,
   "metadata": {
    "colab": {},
    "colab_type": "code",
    "id": "O-EOw4RCjoh2"
   },
   "outputs": [],
   "source": [
    "df = pd.read_csv('./COVID-19/csse_covid_19_data/csse_covid_19_time_series/time_series_covid19_confirmed_global.csv')"
   ]
  },
  {
   "cell_type": "code",
   "execution_count": null,
   "metadata": {
    "colab": {
     "base_uri": "https://localhost:8080/",
     "height": 224
    },
    "colab_type": "code",
    "id": "rHaDmHr8j00q",
    "outputId": "90cd1302-269a-4a5d-ef77-475bb48b7c1c"
   },
   "outputs": [],
   "source": [
    "df.head()"
   ]
  },
  {
   "cell_type": "code",
   "execution_count": null,
   "metadata": {
    "colab": {
     "base_uri": "https://localhost:8080/",
     "height": 34
    },
    "colab_type": "code",
    "id": "IdVGS8Cmj1bO",
    "outputId": "41bdbc85-4361-4b24-a12e-f817c6b7e83a"
   },
   "outputs": [],
   "source": [
    "df.shape"
   ]
  },
  {
   "cell_type": "markdown",
   "metadata": {
    "colab_type": "text",
    "id": "OOS6d5ezlVwn"
   },
   "source": [
    "Let's do a little bit of data munging:\n",
    "- drop `Lat` and `Long`\n",
    "- aggregate by `Country/Region`\n",
    "- transpose\n",
    "- set the date as index"
   ]
  },
  {
   "cell_type": "code",
   "execution_count": null,
   "metadata": {
    "colab": {
     "base_uri": "https://localhost:8080/",
     "height": 304
    },
    "colab_type": "code",
    "id": "snm3miQBj3gg",
    "outputId": "f7b7ffb5-8df6-4dc4-e52a-8276d237e07c"
   },
   "outputs": [],
   "source": [
    "dfcountries = df.drop(['Lat', 'Long'], axis=1).groupby('Country/Region').sum().transpose()\n",
    "\n",
    "dfcountries.index = pd.to_datetime(dfcountries.index)\n",
    "\n",
    "dfcountries.head()"
   ]
  },
  {
   "cell_type": "markdown",
   "metadata": {
    "colab_type": "text",
    "id": "oOknZOSZlRQV"
   },
   "source": [
    "## Selections and aggregations"
   ]
  },
  {
   "cell_type": "code",
   "execution_count": null,
   "metadata": {
    "colab": {
     "base_uri": "https://localhost:8080/",
     "height": 221
    },
    "colab_type": "code",
    "id": "DlyAAe6Oly7M",
    "outputId": "1a783151-2a4d-46ae-ea1c-2fbeb19b048c"
   },
   "outputs": [],
   "source": [
    "dfcountries['Italy']"
   ]
  },
  {
   "cell_type": "code",
   "execution_count": null,
   "metadata": {
    "colab": {
     "base_uri": "https://localhost:8080/",
     "height": 300
    },
    "colab_type": "code",
    "id": "YJmvuIfcl6HR",
    "outputId": "3316a1da-d8ba-4543-9a9d-ed96ab46572f"
   },
   "outputs": [],
   "source": [
    "dfcountries['Italy'].plot();"
   ]
  },
  {
   "cell_type": "markdown",
   "metadata": {
    "colab_type": "text",
    "id": "-7bqbni1uxUt"
   },
   "source": [
    "Let's make it a little prettier"
   ]
  },
  {
   "cell_type": "code",
   "execution_count": null,
   "metadata": {
    "colab": {
     "base_uri": "https://localhost:8080/",
     "height": 316
    },
    "colab_type": "code",
    "id": "fMYDHWo0l9Tf",
    "outputId": "60314db0-9bff-4722-9d18-6d2e3d4a8820"
   },
   "outputs": [],
   "source": [
    "series = dfcountries['Italy']\n",
    "series[series > 100].plot(style='o-', logy=True, title='Italy')\n",
    "plt.ylabel('Confirmed Cases');"
   ]
  },
  {
   "cell_type": "markdown",
   "metadata": {
    "colab_type": "text",
    "id": "sYNUPELNmFVW"
   },
   "source": [
    "### Exercise 1: Python functions\n",
    "\n",
    "- Encapsulate the code above into a function with the signature:\n",
    "\n",
    "  ```python\n",
    "  def plot_country(country, min_cases=100, logy=True):\n",
    "    ...\n",
    "    ...\n",
    "  ```\n",
    "  that plots the data for an arbitrary country.\n",
    "- Use the function to plot a few countries\n",
    "- Bonus points if you add a legend\n",
    "\n",
    "```\n",
    "# This is formatted as code\n",
    "```\n",
    "\n"
   ]
  },
  {
   "cell_type": "code",
   "execution_count": null,
   "metadata": {
    "colab": {},
    "colab_type": "code",
    "id": "_rkLgNP2neuL"
   },
   "outputs": [],
   "source": [
    "## your code here\n"
   ]
  },
  {
   "cell_type": "markdown",
   "metadata": {
    "colab_type": "text",
    "id": "YGr5xFRTnmzc"
   },
   "source": [
    "## Number of cases"
   ]
  },
  {
   "cell_type": "code",
   "execution_count": null,
   "metadata": {
    "colab": {
     "base_uri": "https://localhost:8080/",
     "height": 450
    },
    "colab_type": "code",
    "id": "LrNxKxeuobnB",
    "outputId": "98f36d64-e142-4ea4-f5a5-996ca995db76"
   },
   "outputs": [],
   "source": [
    "total_cases = dfcountries.tail(1).transpose()\n",
    "total_cases"
   ]
  },
  {
   "cell_type": "code",
   "execution_count": null,
   "metadata": {
    "colab": {
     "base_uri": "https://localhost:8080/",
     "height": 34
    },
    "colab_type": "code",
    "id": "_HRxjI4JpYul",
    "outputId": "480d8cad-6d77-468b-eb7c-75251839cc87"
   },
   "outputs": [],
   "source": [
    "last_date = total_cases.columns[0]\n",
    "print_date = last_date.strftime(\"%B %d, %Y\")\n",
    "print_date"
   ]
  },
  {
   "cell_type": "code",
   "execution_count": null,
   "metadata": {
    "colab": {
     "base_uri": "https://localhost:8080/",
     "height": 391
    },
    "colab_type": "code",
    "id": "jnzr4NEPobbe",
    "outputId": "de6a9a7a-fa42-4145-9654-1f4063395993"
   },
   "outputs": [],
   "source": [
    "top_countries = total_cases[last_date].sort_values(ascending=False).head(20)\n",
    "top_countries"
   ]
  },
  {
   "cell_type": "markdown",
   "metadata": {
    "colab_type": "text",
    "id": "PizMwGASvIWm"
   },
   "source": [
    "### Exercise 2: Pandas bar plot\n",
    "\n",
    "- Use the `.plot()` method from Pandas to display the number of cases in the top 20 countries with a horizontal bar chart.\n",
    "- Bonus points if you add a title\n",
    "- Bonus point if you sort the bars in decreasing order from top to bottom\n"
   ]
  },
  {
   "cell_type": "code",
   "execution_count": null,
   "metadata": {
    "colab": {
     "base_uri": "https://localhost:8080/",
     "height": 607
    },
    "colab_type": "code",
    "id": "ke2EZd-eoVNe",
    "outputId": "ed536807-bb30-4a2a-f213-b9f365c418ef"
   },
   "outputs": [],
   "source": [
    "## your code here\n"
   ]
  },
  {
   "cell_type": "markdown",
   "metadata": {
    "colab_type": "text",
    "id": "262nxCJPos1u"
   },
   "source": [
    "## New cases"
   ]
  },
  {
   "cell_type": "markdown",
   "metadata": {
    "colab_type": "text",
    "id": "NOXM8Npvvx6W"
   },
   "source": [
    "### Exercise 3: New cases\n",
    "\n",
    "- Pick a country of your choice and define a variable called `country`\n",
    "- Select the corresponding column in `dfcountries`\n",
    "- Use the `.diff()` method to define a Pandas Series that contains the new daily cases. Call it `ts`.\n",
    "- Filter out the rows with 0 new cases"
   ]
  },
  {
   "cell_type": "code",
   "execution_count": null,
   "metadata": {
    "colab": {},
    "colab_type": "code",
    "id": "3O_toi_sv2D6"
   },
   "outputs": [],
   "source": [
    "## your code here\n"
   ]
  },
  {
   "cell_type": "code",
   "execution_count": null,
   "metadata": {
    "colab": {
     "base_uri": "https://localhost:8080/",
     "height": 404
    },
    "colab_type": "code",
    "id": "AtOU1qNXrEX6",
    "outputId": "91077b7c-279e-4242-e4de-88f40408e642"
   },
   "outputs": [],
   "source": [
    "fig, ax = plt.subplots(figsize=(10,6))\n",
    "ax.bar(ts.index, ts.values)\n",
    "ax.xaxis.set_major_locator(mdates.WeekdayLocator())\n",
    "ax.xaxis.set_major_formatter(mdates.DateFormatter('%b %d'))\n",
    "ax.set_title(f'{country}: New cases')\n",
    "ax.set_ylabel('Count')\n",
    "ax.set_xlabel('Date');"
   ]
  },
  {
   "cell_type": "markdown",
   "metadata": {
    "colab_type": "text",
    "id": "6oTmcY5lrGf6"
   },
   "source": [
    "## Comparison top 10"
   ]
  },
  {
   "cell_type": "code",
   "execution_count": null,
   "metadata": {
    "colab": {
     "base_uri": "https://localhost:8080/",
     "height": 204
    },
    "colab_type": "code",
    "id": "J2aeh8aOslAO",
    "outputId": "f31a76ac-8e98-4f96-dc08-45b3f5360967"
   },
   "outputs": [],
   "source": [
    "dftopcountries = dfcountries[top_countries.index[:10]]\n",
    "dftopcountries.head()"
   ]
  },
  {
   "cell_type": "code",
   "execution_count": null,
   "metadata": {
    "colab": {},
    "colab_type": "code",
    "id": "GoP8AWTTtC09"
   },
   "outputs": [],
   "source": [
    "min_cases = 500"
   ]
  },
  {
   "cell_type": "code",
   "execution_count": null,
   "metadata": {
    "colab": {
     "base_uri": "https://localhost:8080/",
     "height": 419
    },
    "colab_type": "code",
    "id": "HZnwqJoLsQjB",
    "outputId": "8fc66d5f-20bc-4bfd-e9ac-7c4b6f712035"
   },
   "outputs": [],
   "source": [
    "df_realigned = dftopcountries[dftopcountries > min_cases].dropna(how='all').reset_index(drop=True)\n",
    "df_realigned"
   ]
  },
  {
   "cell_type": "markdown",
   "metadata": {
    "colab_type": "text",
    "id": "m1dXsYFv1V9t"
   },
   "source": [
    "### Exercise 4\n",
    "Iterate over the columns in `df_realigned` and shift the values up eliminating the null values in such a way that each country's time-series starts at the first row. This is not easy and there are multiple ways to solve this exercise.\n",
    "\n",
    "The goal is to obtain a DataFrame that looks like this:\n",
    "\n",
    "![image.png](data:image/png;base64,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)"
   ]
  },
  {
   "cell_type": "code",
   "execution_count": null,
   "metadata": {
    "colab": {
     "base_uri": "https://localhost:8080/",
     "height": 979
    },
    "colab_type": "code",
    "id": "Q6Y9HRT3sZKQ",
    "outputId": "dd56ad45-952c-43ed-e518-4e1dd2bee328"
   },
   "outputs": [],
   "source": [
    "## your code here\n"
   ]
  },
  {
   "cell_type": "code",
   "execution_count": null,
   "metadata": {
    "colab": {
     "base_uri": "https://localhost:8080/",
     "height": 621
    },
    "colab_type": "code",
    "id": "LnpBJu0Yw4Pp",
    "outputId": "6450edb6-0ec3-45b0-e530-efa93c2b4a6f"
   },
   "outputs": [],
   "source": [
    "x = np.arange(20)\n",
    "y = 1.35**(x+21)\n",
    "\n",
    "df_realigned.plot(logy=True, figsize=(15, 10), style='o-', title=\"Number of cases\")\n",
    "plt.xlabel(\"Days since 500 cases\")\n",
    "plt.plot(x, y, c='black', linewidth=5)\n",
    "plt.text(12, 1e5, \"1.35x daily growth\", fontsize=15);"
   ]
  },
  {
   "cell_type": "markdown",
   "metadata": {
    "colab_type": "text",
    "id": "ixO1BDD5w_6n"
   },
   "source": [
    "### Exercise 5: What can you do to help minimize the impact of COVID-19?"
   ]
  },
  {
   "cell_type": "code",
   "execution_count": null,
   "metadata": {
    "colab": {},
    "colab_type": "code",
    "id": "8Cwe__O921Gd"
   },
   "outputs": [],
   "source": [
    "## your code here"
   ]
  },
  {
   "cell_type": "markdown",
   "metadata": {
    "colab_type": "text",
    "id": "3lds6HdCw_q3"
   },
   "source": []
  }
 ],
 "metadata": {
  "colab": {
   "authorship_tag": "ABX9TyOJWB9s6S9wS5YLk8la7mLZ",
   "include_colab_link": true,
   "name": "Covid-19 data exploration with Pandas.ipynb",
   "provenance": []
  },
  "kernelspec": {
   "display_name": "Python 3",
   "language": "python",
   "name": "python3"
  },
  "language_info": {
   "codemirror_mode": {
    "name": "ipython",
    "version": 3
   },
   "file_extension": ".py",
   "mimetype": "text/x-python",
   "name": "python",
   "nbconvert_exporter": "python",
   "pygments_lexer": "ipython3",
   "version": "3.7.3"
  }
 },
 "nbformat": 4,
 "nbformat_minor": 1
}
